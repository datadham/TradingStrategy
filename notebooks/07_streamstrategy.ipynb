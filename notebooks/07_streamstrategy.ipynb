{
 "cells": [
  {
   "cell_type": "code",
   "execution_count": null,
   "metadata": {},
   "outputs": [],
   "source": [
    "import websockets\n",
    "import pandas as pd \n",
    "import numpy as np \n",
    "import json \n",
    "import ta \n",
    "import yfinance as yf \n",
    "import matplotlib.pyplot as plt "
   ]
  },
  {
   "cell_type": "code",
   "execution_count": null,
   "metadata": {},
   "outputs": [],
   "source": [
    "stream = \\\n",
    "websockets.connect('wss://stream.binance.com:9443/stream?streams=adausdt@miniTicker')"
   ]
  },
  {
   "cell_type": "code",
   "execution_count": null,
   "metadata": {},
   "outputs": [],
   "source": [
    "def createframe(msg):\n",
    "    df = pd.DataFrame([msg])\n",
    "    df = df.loc[:,['s','E','c']]\n",
    "    df.columns = ['symbol','Time','Price']\n",
    "    df.Price = df.Price.astype(float)\n",
    "    df.Time = pd.to_datetime(df.Time,unit='ms')\n",
    "    return df "
   ]
  },
  {
   "cell_type": "code",
   "execution_count": null,
   "metadata": {},
   "outputs": [],
   "source": [
    "df = pd.DataFrame()\n",
    "orderlist = []\n",
    "open_position = False\n",
    "\n",
    "async with stream as receiver : \n",
    "    while True : \n",
    "        data = await receiver.recv()\n",
    "        data = json.loads(data)['data']\n",
    "        df = pd.concat([df,createframe(data)]).reset_index(drop=True)\n",
    "        print(df.tail(1))\n",
    "        \n",
    "        if not open_position and ta.momentum.roc(df.Price,30).iloc[-1] >0:\n",
    "            buyprice = df.iloc[-1].Price\n",
    "            pos = order(price = buyprice, quantity = 50)\n",
    "            print(f'BUY ORDER : {pos.getbuy()}')\n",
    "            open_position = True\n",
    "            \n",
    "            \n",
    "        if open_position : \n",
    "            subdf = df[df.Time >= pd.to_datetime(pos.getbuy()[1],unit='ms')]\n",
    "            # ça s'actualise en base revoir la logique\n",
    "            if len(subdf)>1:\n",
    "                subdf['highest'] = subdf.Price.cummax()\n",
    "                subdf['trailingstop'] = subdf['highest']*0.995\n",
    "                \n",
    "                if subdf.iloc[-1].Price < subdf.iloc[-1]['trailingstop'] \\\n",
    "                    or subdf.iloc[-1].Price > buyprice * 1.002:\n",
    "                    \n",
    "                    sellprice = subdf.iloc[-1].Price\n",
    "                    pos.addsell(price = sellprice ,quantity =50)\n",
    "                    print(f'SELL ORDER : {pos.getsell()}')\n",
    "                    open_position = False\n",
    "                    print(f\"You made {(sellprice - buyprice)/buyprice} profit\")\n",
    "                    orderlist.append(pos)\n",
    "                    open_position = False"
   ]
  }
 ],
 "metadata": {
  "language_info": {
   "name": "python"
  }
 },
 "nbformat": 4,
 "nbformat_minor": 2
}
